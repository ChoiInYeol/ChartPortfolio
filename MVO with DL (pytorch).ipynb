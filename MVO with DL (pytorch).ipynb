{
 "cells": [
  {
   "cell_type": "code",
   "execution_count": 4,
   "id": "cd56bd6a",
   "metadata": {
    "ExecuteTime": {
     "end_time": "2022-01-02T13:48:49.431079Z",
     "start_time": "2022-01-02T13:48:49.423105Z"
    }
   },
   "outputs": [],
   "source": [
    "import os\n",
    "import json\n",
    "import random\n",
    "import numpy as np\n",
    "import torch\n",
    "from train.train import Trainer\n",
    "from IPython.display import Image"
   ]
  },
  {
   "cell_type": "markdown",
   "id": "9cbece5e",
   "metadata": {},
   "source": [
    "### Fix Seed and Train"
   ]
  },
  {
   "cell_type": "code",
   "execution_count": null,
   "id": "03cc180f",
   "metadata": {
    "ExecuteTime": {
     "end_time": "2021-12-30T15:18:26.866479Z",
     "start_time": "2021-12-30T14:33:08.878483Z"
    },
    "scrolled": true
   },
   "outputs": [],
   "source": [
    "config = json.load(open(\"config/train_config.json\", \"r\"))\n",
    "\n",
    "os.environ[\"PYTHONHASHSEED\"] = str(config[\"SEED\"])\n",
    "random.seed(config[\"SEED\"])\n",
    "np.random.seed(config[\"SEED\"])\n",
    "torch.manual_seed(config[\"SEED\"])\n",
    "torch.cuda.manual_seed(config[\"SEED\"])\n",
    "torch.backends.cudnn.deterministic = True\n",
    "torch.backends.cudnn.benchmark = False\n",
    "\n",
    "\n",
    "worker = Trainer(config)\n",
    "worker.set_data()\n",
    "worker.train(visualize=True)"
   ]
  },
  {
   "cell_type": "markdown",
   "id": "3adfe275",
   "metadata": {},
   "source": [
    "### Backtest"
   ]
  },
  {
   "cell_type": "code",
   "execution_count": null,
   "id": "4246b0d5",
   "metadata": {
    "ExecuteTime": {
     "end_time": "2021-12-30T15:18:36.624843Z",
     "start_time": "2021-12-30T15:18:31.711989Z"
    }
   },
   "outputs": [],
   "source": [
    "worker.backtest(visualize=True)"
   ]
  }
 ],
 "metadata": {
  "hide_input": false,
  "kernelspec": {
   "display_name": "Python 3",
   "language": "python",
   "name": "python3"
  },
  "language_info": {
   "codemirror_mode": {
    "name": "ipython",
    "version": 3
   },
   "file_extension": ".py",
   "mimetype": "text/x-python",
   "name": "python",
   "nbconvert_exporter": "python",
   "pygments_lexer": "ipython3",
   "version": "3.8.19"
  },
  "toc": {
   "base_numbering": 1,
   "nav_menu": {},
   "number_sections": true,
   "sideBar": true,
   "skip_h1_title": false,
   "title_cell": "Table of Contents",
   "title_sidebar": "Contents",
   "toc_cell": false,
   "toc_position": {},
   "toc_section_display": true,
   "toc_window_display": false
  },
  "varInspector": {
   "cols": {
    "lenName": 16,
    "lenType": 16,
    "lenVar": 40
   },
   "kernels_config": {
    "python": {
     "delete_cmd_postfix": "",
     "delete_cmd_prefix": "del ",
     "library": "var_list.py",
     "varRefreshCmd": "print(var_dic_list())"
    },
    "r": {
     "delete_cmd_postfix": ") ",
     "delete_cmd_prefix": "rm(",
     "library": "var_list.r",
     "varRefreshCmd": "cat(var_dic_list()) "
    }
   },
   "types_to_exclude": [
    "module",
    "function",
    "builtin_function_or_method",
    "instance",
    "_Feature"
   ],
   "window_display": false
  }
 },
 "nbformat": 4,
 "nbformat_minor": 5
}
