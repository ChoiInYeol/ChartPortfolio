{
 "cells": [
  {
   "cell_type": "code",
   "execution_count": 2,
   "metadata": {},
   "outputs": [],
   "source": [
    "import numpy as np\n",
    "import torch\n",
    "\n",
    "# npz 파일을 로드하는 함수\n",
    "def load_npz_data(npz_file):\n",
    "    data = np.load(npz_file, allow_pickle=True)\n",
    "    images = data['images']\n",
    "    labels = data['labels']  # 필요한 경우 레이블도 사용 가능\n",
    "    meta_data = data['meta_data']  # 필요한 경우 메타데이터도 사용 가능\n",
    "\n",
    "    return images, labels, meta_data\n",
    "\n",
    "# 예시: AAPL 종목의 20일 기간의 데이터 로드\n",
    "images, labels, meta_data = load_npz_data('../data/charts/candlestick_data_BAC_20D.npz')"
   ]
  },
  {
   "cell_type": "code",
   "execution_count": 3,
   "metadata": {},
   "outputs": [
    {
     "data": {
      "text/plain": [
       "((263, 64, 117), (263,), (263,))"
      ]
     },
     "execution_count": 3,
     "metadata": {},
     "output_type": "execute_result"
    }
   ],
   "source": [
    "images.shape, labels.shape, meta_data.shape"
   ]
  },
  {
   "cell_type": "code",
   "execution_count": 4,
   "metadata": {},
   "outputs": [
    {
     "data": {
      "image/png": "[encoded data removed]",
      "text/plain": [
       "<Figure size 640x480 with 1 Axes>"
      ]
     },
     "metadata": {},
     "output_type": "display_data"
    }
   ],
   "source": [
    "images[0]\n",
    "\n",
    "# 이미지 데이터를 그림으로 변환\n",
    "import matplotlib.pyplot as plt\n",
    "\n",
    "def plot_candlestick(image):\n",
    "    fig, ax = plt.subplots()\n",
    "    ax.imshow(image)\n",
    "    plt.show()\n",
    "    \n",
    "plot_candlestick(images[43])"
   ]
  },
  {
   "cell_type": "code",
   "execution_count": null,
   "metadata": {},
   "outputs": [],
   "source": []
  }
 ],
 "metadata": {
  "kernelspec": {
   "display_name": "cnnopt-60G0TycY",
   "language": "python",
   "name": "python3"
  },
  "language_info": {
   "codemirror_mode": {
    "name": "ipython",
    "version": 3
   },
   "file_extension": ".py",
   "mimetype": "text/x-python",
   "name": "python",
   "nbconvert_exporter": "python",
   "pygments_lexer": "ipython3",
   "version": "3.8.19"
  }
 },
 "nbformat": 4,
 "nbformat_minor": 2
}
